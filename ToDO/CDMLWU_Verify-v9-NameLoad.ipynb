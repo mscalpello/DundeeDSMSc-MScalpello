{
 "cells": [
  {
   "cell_type": "code",
   "execution_count": 21,
   "metadata": {},
   "outputs": [],
   "source": [
    "# Notebook to test completed ML model v3\n",
    "# Uses all negatiove links\n",
    "# Test model link prediction and community detection features\n",
    "# Test triangles and clustering"
   ]
  },
  {
   "cell_type": "code",
   "execution_count": 22,
   "metadata": {},
   "outputs": [],
   "source": [
    "from py2neo import Graph\n",
    "import pandas as pd\n",
    "\n",
    "import matplotlib \n",
    "import matplotlib.pyplot as plt\n",
    "\n",
    "plt.style.use('fivethirtyeight')\n",
    "pd.set_option('display.float_format', lambda x: '%.3f' % x)\n",
    "\n",
    "import pandas as pd\n",
    "from collections import Counter\n",
    "from sklearn.ensemble import RandomForestClassifier\n",
    "\n",
    "from sklearn.metrics import recall_score\n",
    "from sklearn.metrics import precision_score\n",
    "from sklearn.metrics import accuracy_score\n",
    "graph = Graph(\"bolt://localhost\", auth=(\"neo4j\", \"123\"))\n",
    "import pickle"
   ]
  },
  {
   "cell_type": "code",
   "execution_count": 23,
   "metadata": {},
   "outputs": [],
   "source": [
    "filename = 'd:\\projectdata\\Models\\CDMLWU_V860.sav'\n",
    "lrclassifier = pickle.load(open(filename,'rb'))\n",
    "# Feature column names\n",
    "columns = [\n",
    "    \"cn\",\"aa\", \"pa\", \"tn\",\"ra\", # graph features\n",
    "    \"lp\", \"lv\",\n",
    "    \"minT\", \"maxT\", \"minC\", \"maxC\", # triangle features     \n",
    "    \"sn\"                            # same name feature\n",
    "]"
   ]
  },
  {
   "cell_type": "code",
   "execution_count": 24,
   "metadata": {},
   "outputs": [],
   "source": [
    "#Function to down sample negative examples\n",
    "def down_sample(df):\n",
    "    copy = df.copy()\n",
    "    zero = Counter(copy.label.values)[0]\n",
    "    un = Counter(copy.label.values)[1]\n",
    "    n = zero - un\n",
    "    copy = copy.drop(copy[copy.label == 0].sample(n=n, random_state=1).index)\n",
    "    return copy.sample(frac=1)\n",
    "\n",
    "def evaluate_model(predictions, actual):\n",
    "    return pd.DataFrame({\n",
    "        \"Measure\": [\"Accuracy\", \"Precision\", \"Recall\"],\n",
    "        \"Score\": [accuracy_score(actual, predictions), \n",
    "                  precision_score(actual, predictions), \n",
    "                  recall_score(actual, predictions)]\n",
    "    })\n",
    "\n",
    "def feature_importance(columns, classifier):        \n",
    "    display(\"Feature Importance\")\n",
    "    df = pd.DataFrame({\n",
    "        \"Feature\": columns,\n",
    "        \"Importance\": classifier.feature_importances_\n",
    "    })\n",
    "    df = df.sort_values(\"Importance\", ascending=False)    \n",
    "    ax = df.plot(kind='bar', x='Feature', y='Importance', legend=None)\n",
    "    ax.xaxis.set_label_text(\"\")\n",
    "    plt.tight_layout()\n",
    "    plt.show()"
   ]
  },
  {
   "cell_type": "code",
   "execution_count": 25,
   "metadata": {},
   "outputs": [],
   "source": [
    "def create_LP_features(data, rel_type):\n",
    "    query = \"\"\"\n",
    "    UNWIND $pairs AS pair\n",
    "    MATCH (p1:Person) \n",
    "    USING INDEX p1:Person(connectionid) \n",
    "    WHERE p1.connectionid = pair.node1\n",
    "    MATCH (p2:Person) \n",
    "    USING INDEX p2:Person(connectionid) \n",
    "    WHERE p2.connectionid = pair.node2\n",
    "    RETURN pair.node1 AS node1,\n",
    "           pair.node2 AS node2,\n",
    "           algo.linkprediction.commonNeighbors(\n",
    "               p1, p2, {relationshipQuery: $relType}) AS cn,\n",
    "           algo.linkprediction.adamicAdar(\n",
    "               p1, p2, {relationshipQuery: $relType}) AS aa,\n",
    "           algo.linkprediction.preferentialAttachment(\n",
    "               p1, p2, {relationshipQuery: $relType}) AS pa,\n",
    "           algo.linkprediction.totalNeighbors(\n",
    "               p1, p2, {relationshipQuery: $relType}) AS tn,\n",
    "           algo.linkprediction.resourceAllocation(\n",
    "               p1, p2, {relationshipQuery: $relType}) AS ra\n",
    "               \n",
    "    \"\"\"\n",
    "    pairs = [{\"node1\": node1, \"node2\": node2}  for node1,node2 in data[[\"node1\", \"node2\"]].values.tolist()]\n",
    "    features = graph.run(query, {\"pairs\": pairs, \"relType\": rel_type}).to_data_frame()\n",
    "    features = features.drop_duplicates()\n",
    "    return pd.merge(data, features, on = [\"node1\", \"node2\"])\n",
    "\n",
    "def create_community_features(data, triangles_prop, coefficient_prop):\n",
    "    query = \"\"\"\n",
    "    UNWIND $pairs AS pair\n",
    "    MATCH (p1:Person) \n",
    "    USING INDEX p1:Person(connectionid) \n",
    "    WHERE p1.connectionid = pair.node1\n",
    "    MATCH (p2:Person) \n",
    "    USING INDEX p2:Person(connectionid) \n",
    "    WHERE p2.connectionid = pair.node2\n",
    "    RETURN pair.node1 AS node1,\n",
    "    pair.node2 AS node2,\n",
    "    apoc.coll.min([p1[$trianglesProp], p2[$trianglesProp]]) AS minT,\n",
    "    apoc.coll.max([p1[$trianglesProp], p2[$trianglesProp]]) AS maxT,\n",
    "    apoc.coll.min([p1[$coefficientProp], p2[$coefficientProp]]) AS minC,\n",
    "    apoc.coll.max([p1[$coefficientProp], p2[$coefficientProp]]) AS maxC\n",
    "    \"\"\"    \n",
    "    pairs = [{\"node1\": node1, \"node2\": node2}  for node1,node2 in data[[\"node1\", \"node2\"]].values.tolist()]    \n",
    "    params = {\n",
    "    \"pairs\": pairs,\n",
    "    \"trianglesProp\": triangles_prop,\n",
    "    \"coefficientProp\": coefficient_prop\n",
    "    }\n",
    "    features = graph.run(query, params).to_data_frame()\n",
    "    features = features.drop_duplicates()\n",
    "    return pd.merge(data, features, on = [\"node1\", \"node2\"])\n",
    "\n",
    "def communitydetection_features(data, partition_prop, louvain_prop):\n",
    "    query = \"\"\"\n",
    "    UNWIND $pairs AS pair\n",
    "    MATCH (p1:Person) \n",
    "    USING INDEX p1:Person(connectionid) \n",
    "    WHERE p1.connectionid = pair.node1\n",
    "    MATCH (p2:Person) \n",
    "    USING INDEX p2:Person(connectionid) \n",
    "    WHERE p2.connectionid = pair.node2\n",
    "    RETURN pair.node1 AS node1,\n",
    "    pair.node2 AS node2,\n",
    "    algo.linkprediction.sameCommunity(p1, p2, $partitionProp) AS lp,    \n",
    "    algo.linkprediction.sameCommunity(p1, p2, $louvainProp) AS lv\n",
    "    \"\"\"\n",
    "    pairs = [{\"node1\": node1, \"node2\": node2}  for node1,node2 in data[[\"node1\", \"node2\"]].values.tolist()]\n",
    "    params = {\n",
    "    \"pairs\": pairs,\n",
    "    \"partitionProp\": partition_prop,\n",
    "    \"louvainProp\": louvain_prop\n",
    "    }\n",
    "    features = graph.run(query, params).to_data_frame()\n",
    "    features = features.drop_duplicates()\n",
    "    return pd.merge(data, features, on = [\"node1\", \"node2\"])\n",
    "\n",
    "def samename_features(data, samename_prop):\n",
    "    query = \"\"\"\n",
    "    UNWIND $pairs AS pair\n",
    "    MATCH (p1:Person) \n",
    "    USING INDEX p1:Person(connectionid) \n",
    "    WHERE p1.connectionid = pair.node1\n",
    "    MATCH (p2:Person) \n",
    "    USING INDEX p2:Person(connectionid) \n",
    "    WHERE p2.connectionid = pair.node2\n",
    "    RETURN pair.node1 AS node1,\n",
    "    pair.node2 AS node2,\n",
    "    algo.linkprediction.sameCommunity(p1, p2, $samenameProp) AS sn\n",
    "\"\"\"\n",
    "    pairs = [{\"node1\": node1, \"node2\": node2}  for node1,node2 in data[[\"node1\", \"node2\"]].values.tolist()]\n",
    "    params = {\n",
    "    \"pairs\": pairs,\n",
    "    \"samenameProp\": samename_prop\n",
    "    }\n",
    "    features = graph.run(query, params).to_data_frame()\n",
    "    features = features.drop_duplicates()\n",
    "    return pd.merge(data, features, on = [\"node1\", \"node2\"])"
   ]
  },
  {
   "cell_type": "code",
   "execution_count": 26,
   "metadata": {},
   "outputs": [],
   "source": [
    "# Load candidate names for prediction\n",
    "linknames = pd.read_csv('d:/projectdata/ModelInput/names.csv')\n",
    "\n",
    "#Build the Cypher query\n",
    "cytext1=\"\"\"\n",
    "MATCH (p1:Person {FullName: \n",
    "\"\"\"\n",
    "cytext2=\"\"\"\n",
    "WHERE (p1)-[:Knows]-()\n",
    "MATCH (p1)-[:Knows*1..2]-(p2:Person)\n",
    "WHERE not((p1)-[:Knows]-(p2))\n",
    "RETURN p1.connectionid AS node1, p2.connectionid AS node2, 0 AS label\n",
    "\"\"\"\n",
    "# Create a new datafram\n",
    "all_links = pd.DataFrame()"
   ]
  },
  {
   "cell_type": "code",
   "execution_count": 27,
   "metadata": {},
   "outputs": [],
   "source": [
    "# Loop through the list of names\n",
    "for row in linknames.itertuples():\n",
    "    # Create the Cypher query with the name inserted\n",
    "    cytext3 = '\"' + row.PersonLabel + '\"})'\n",
    "    cytext3 = cytext3.replace('\\n', '').replace('\\r', '')\n",
    "    cytext1 = cytext1.replace('\\n', '').replace('\\r', '')\n",
    "    cytext4 = cytext1 + cytext3 + cytext2\n",
    "    \n",
    "    #Run the query against Neo4J\n",
    "    no_links = graph.run(cytext4).to_data_frame()\n",
    "    #Append a list of negative links to the dataframe \n",
    "    all_links = all_links.append(no_links,ignore_index=True)"
   ]
  },
  {
   "cell_type": "code",
   "execution_count": 28,
   "metadata": {
    "scrolled": true
   },
   "outputs": [
    {
     "data": {
      "text/plain": [
       "node1    14681\n",
       "node2    14681\n",
       "label    14681\n",
       "dtype: int64"
      ]
     },
     "execution_count": 28,
     "metadata": {},
     "output_type": "execute_result"
    }
   ],
   "source": [
    "all_links= all_links.drop_duplicates()\n",
    "all_links.count()"
   ]
  },
  {
   "cell_type": "code",
   "execution_count": 29,
   "metadata": {},
   "outputs": [],
   "source": [
    "# Apply graphs algorithms to node pairs\n",
    "# use the main graph not a sub-graph\n",
    "all_links= create_LP_features(all_links,\"Knows\")"
   ]
  },
  {
   "cell_type": "code",
   "execution_count": 30,
   "metadata": {
    "scrolled": true
   },
   "outputs": [
    {
     "data": {
      "text/html": [
       "<div>\n",
       "<style scoped>\n",
       "    .dataframe tbody tr th:only-of-type {\n",
       "        vertical-align: middle;\n",
       "    }\n",
       "\n",
       "    .dataframe tbody tr th {\n",
       "        vertical-align: top;\n",
       "    }\n",
       "\n",
       "    .dataframe thead th {\n",
       "        text-align: right;\n",
       "    }\n",
       "</style>\n",
       "<table border=\"1\" class=\"dataframe\">\n",
       "  <thead>\n",
       "    <tr style=\"text-align: right;\">\n",
       "      <th></th>\n",
       "      <th>loadMillis</th>\n",
       "      <th>computeMillis</th>\n",
       "      <th>writeMillis</th>\n",
       "      <th>postProcessingMillis</th>\n",
       "      <th>nodes</th>\n",
       "      <th>communityCount</th>\n",
       "      <th>iterations</th>\n",
       "      <th>didConverge</th>\n",
       "      <th>p1</th>\n",
       "      <th>p5</th>\n",
       "      <th>...</th>\n",
       "      <th>p50</th>\n",
       "      <th>p75</th>\n",
       "      <th>p90</th>\n",
       "      <th>p95</th>\n",
       "      <th>p99</th>\n",
       "      <th>p100</th>\n",
       "      <th>weightProperty</th>\n",
       "      <th>write</th>\n",
       "      <th>partitionProperty</th>\n",
       "      <th>writeProperty</th>\n",
       "    </tr>\n",
       "  </thead>\n",
       "  <tbody>\n",
       "    <tr>\n",
       "      <th>0</th>\n",
       "      <td>27</td>\n",
       "      <td>14</td>\n",
       "      <td>2</td>\n",
       "      <td>34</td>\n",
       "      <td>700</td>\n",
       "      <td>56</td>\n",
       "      <td>9</td>\n",
       "      <td>True</td>\n",
       "      <td>3</td>\n",
       "      <td>4</td>\n",
       "      <td>...</td>\n",
       "      <td>11</td>\n",
       "      <td>14</td>\n",
       "      <td>19</td>\n",
       "      <td>26</td>\n",
       "      <td>29</td>\n",
       "      <td>42</td>\n",
       "      <td>weight</td>\n",
       "      <td>True</td>\n",
       "      <td>lpcommunity</td>\n",
       "      <td>lpcommunity</td>\n",
       "    </tr>\n",
       "  </tbody>\n",
       "</table>\n",
       "<p>1 rows × 22 columns</p>\n",
       "</div>"
      ],
      "text/plain": [
       "   loadMillis  computeMillis  writeMillis  postProcessingMillis  nodes  \\\n",
       "0          27             14            2                    34    700   \n",
       "\n",
       "   communityCount  iterations  didConverge  p1  p5  ...  p50  p75  p90  p95  \\\n",
       "0              56           9         True   3   4  ...   11   14   19   26   \n",
       "\n",
       "   p99  p100  weightProperty  write partitionProperty  writeProperty  \n",
       "0   29    42          weight   True       lpcommunity    lpcommunity  \n",
       "\n",
       "[1 rows x 22 columns]"
      ]
     },
     "execution_count": 30,
     "metadata": {},
     "output_type": "execute_result"
    }
   ],
   "source": [
    "# Apply community features to data\n",
    "# Setup label propagation\n",
    "\n",
    "graph.run(\"\"\"\n",
    "CALL algo.labelPropagation(\"Person\", \"Knows\", \"BOTH\",\n",
    "{iterations:20, partitionProperty: \"lpcommunity\"});\n",
    "\"\"\").to_data_frame()"
   ]
  },
  {
   "cell_type": "code",
   "execution_count": 31,
   "metadata": {},
   "outputs": [
    {
     "data": {
      "text/plain": [
       "constraints_added: 0\n",
       "constraints_removed: 0\n",
       "contained_updates: True\n",
       "indexes_added: 0\n",
       "indexes_removed: 0\n",
       "labels_added: 0\n",
       "labels_removed: 0\n",
       "nodes_created: 0\n",
       "nodes_deleted: 0\n",
       "properties_set: 700\n",
       "relationships_created: 0\n",
       "relationships_deleted: 0"
      ]
     },
     "execution_count": 31,
     "metadata": {},
     "output_type": "execute_result"
    }
   ],
   "source": [
    "graph.run(\"\"\"\n",
    "CALL algo.louvain.stream(\"Person\", \"Knows\", {includeIntermediateCommunities:false})\n",
    "YIELD nodeId, community, communities\n",
    "WITH algo.getNodeById(nodeId) AS node, community AS smallestCommunity\n",
    "SET node.klouvain = smallestCommunity;\n",
    "\"\"\").stats()"
   ]
  },
  {
   "cell_type": "code",
   "execution_count": 32,
   "metadata": {},
   "outputs": [],
   "source": [
    "#graph.run(\"\"\"\n",
    "#CALL algo.louvain.stream(\"Person\", \"Knows\", {includeIntermediateCommunities:true})\n",
    "#YIELD nodeId, community, communities\n",
    "#WITH algo.getNodeById(nodeId) AS node, communities[2] AS lcommunity\n",
    "#SET node.klouvain = lcommunity;\n",
    "#\"\"\").stats()"
   ]
  },
  {
   "cell_type": "code",
   "execution_count": 33,
   "metadata": {},
   "outputs": [],
   "source": [
    "all_links = communitydetection_features(all_links, \"lpcommunity\", \"klouvain\")"
   ]
  },
  {
   "cell_type": "code",
   "execution_count": 34,
   "metadata": {},
   "outputs": [],
   "source": [
    "# Apply Triangle features to node pairs\n",
    "# Setup data in graphDB\n",
    "graph.run(\"\"\"\n",
    "CALL algo.triangleCount('Person', 'Knows', { write:true,\n",
    "writeProperty:'triangles', clusteringCoefficientProperty:'clustercoef'});\n",
    "\"\"\").to_data_frame()\n",
    "\n",
    "all_links = create_community_features(all_links,\"triangles\",\"clustercoef\")"
   ]
  },
  {
   "cell_type": "code",
   "execution_count": 35,
   "metadata": {},
   "outputs": [],
   "source": [
    "# Use the same surname feature extractor\n",
    "all_links = samename_features(all_links, \"surnameID\")"
   ]
  },
  {
   "cell_type": "code",
   "execution_count": 36,
   "metadata": {},
   "outputs": [],
   "source": [
    "all_links.to_csv('d:/projectdata/ModelOutput//ModelData/CDMLWU_V8Clay2.csv')"
   ]
  },
  {
   "cell_type": "code",
   "execution_count": 37,
   "metadata": {},
   "outputs": [],
   "source": [
    "predictions=lrclassifier.predict(all_links[columns])\n",
    "predictpct=lrclassifier.predict_proba(all_links[columns])"
   ]
  },
  {
   "cell_type": "code",
   "execution_count": 38,
   "metadata": {},
   "outputs": [],
   "source": [
    "pd.DataFrame(predictions).to_csv('d:/projectdata/ModelOutput/ModelData/CDMLWU_V8Clay_P2.csv')"
   ]
  },
  {
   "cell_type": "code",
   "execution_count": 39,
   "metadata": {},
   "outputs": [],
   "source": [
    "pd.DataFrame(predictpct).to_csv('d:/projectdata/ModelOutput/ModelData/CDMLWU_V8Clay_PCT2.csv')"
   ]
  },
  {
   "cell_type": "code",
   "execution_count": 40,
   "metadata": {},
   "outputs": [
    {
     "name": "stderr",
     "output_type": "stream",
     "text": [
      "C:\\Users\\mscal\\Anaconda3\\envs\\GraphML2\\lib\\site-packages\\sklearn\\metrics\\_classification.py:1272: UndefinedMetricWarning: Recall is ill-defined and being set to 0.0 due to no true samples. Use `zero_division` parameter to control this behavior.\n",
      "  _warn_prf(average, modifier, msg_start, len(result))\n"
     ]
    },
    {
     "data": {
      "text/html": [
       "<div>\n",
       "<style scoped>\n",
       "    .dataframe tbody tr th:only-of-type {\n",
       "        vertical-align: middle;\n",
       "    }\n",
       "\n",
       "    .dataframe tbody tr th {\n",
       "        vertical-align: top;\n",
       "    }\n",
       "\n",
       "    .dataframe thead th {\n",
       "        text-align: right;\n",
       "    }\n",
       "</style>\n",
       "<table border=\"1\" class=\"dataframe\">\n",
       "  <thead>\n",
       "    <tr style=\"text-align: right;\">\n",
       "      <th></th>\n",
       "      <th>Measure</th>\n",
       "      <th>Score</th>\n",
       "    </tr>\n",
       "  </thead>\n",
       "  <tbody>\n",
       "    <tr>\n",
       "      <th>0</th>\n",
       "      <td>Accuracy</td>\n",
       "      <td>0.961</td>\n",
       "    </tr>\n",
       "    <tr>\n",
       "      <th>1</th>\n",
       "      <td>Precision</td>\n",
       "      <td>0.000</td>\n",
       "    </tr>\n",
       "    <tr>\n",
       "      <th>2</th>\n",
       "      <td>Recall</td>\n",
       "      <td>0.000</td>\n",
       "    </tr>\n",
       "  </tbody>\n",
       "</table>\n",
       "</div>"
      ],
      "text/plain": [
       "     Measure  Score\n",
       "0   Accuracy  0.961\n",
       "1  Precision  0.000\n",
       "2     Recall  0.000"
      ]
     },
     "metadata": {},
     "output_type": "display_data"
    },
    {
     "data": {
      "text/plain": [
       "'Feature Importance'"
      ]
     },
     "metadata": {},
     "output_type": "display_data"
    },
    {
     "data": {
      "image/png": "[encoded data removed]",
      "text/plain": [
       "<Figure size 432x288 with 1 Axes>"
      ]
     },
     "metadata": {},
     "output_type": "display_data"
    }
   ],
   "source": [
    "y_test = all_links[\"label\"]\n",
    "\n",
    "display(evaluate_model(predictions, y_test))\n",
    "feature_importance(columns, lrclassifier)"
   ]
  },
  {
   "cell_type": "code",
   "execution_count": null,
   "metadata": {},
   "outputs": [],
   "source": []
  }
 ],
 "metadata": {
  "kernelspec": {
   "display_name": "Python 3",
   "language": "python",
   "name": "python3"
  },
  "language_info": {
   "codemirror_mode": {
    "name": "ipython",
    "version": 3
   },
   "file_extension": ".py",
   "mimetype": "text/x-python",
   "name": "python",
   "nbconvert_exporter": "python",
   "pygments_lexer": "ipython3",
   "version": "3.7.6"
  }
 },
 "nbformat": 4,
 "nbformat_minor": 2
}
