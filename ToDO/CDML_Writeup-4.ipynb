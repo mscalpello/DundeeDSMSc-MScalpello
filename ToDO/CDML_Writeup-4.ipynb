{
 "cells": [
  {
   "cell_type": "code",
   "execution_count": 1,
   "metadata": {},
   "outputs": [],
   "source": [
    "# Same as Version three except using connectionID instead of nodeID (which changes)\n",
    "# Added community detection features - label prop and louvain\n",
    "# Added triangles and clustering coefficient"
   ]
  },
  {
   "cell_type": "code",
   "execution_count": 2,
   "metadata": {},
   "outputs": [],
   "source": [
    "from py2neo import Graph\n",
    "import pandas as pd\n",
    "\n",
    "import matplotlib \n",
    "import matplotlib.pyplot as plt\n",
    "\n",
    "plt.style.use('fivethirtyeight')\n",
    "pd.set_option('display.float_format', lambda x: '%.3f' % x)\n",
    "\n",
    "import pandas as pd\n",
    "from collections import Counter\n",
    "from sklearn.ensemble import RandomForestClassifier\n",
    "from sklearn.ensemble import ExtraTreesClassifier\n",
    "\n",
    "from sklearn.metrics import recall_score\n",
    "from sklearn.metrics import precision_score\n",
    "from sklearn.metrics import accuracy_score\n",
    "graph = Graph(\"bolt://localhost\", auth=(\"neo4j\", \"123\"))\n",
    "import pickle"
   ]
  },
  {
   "cell_type": "code",
   "execution_count": 3,
   "metadata": {},
   "outputs": [],
   "source": [
    "#Function to down sample negative examples\n",
    "def down_sample(df):\n",
    "    copy = df.copy()\n",
    "    zero = Counter(copy.label.values)[0]\n",
    "    un = Counter(copy.label.values)[1]\n",
    "    n = zero - un\n",
    "    copy = copy.drop(copy[copy.label == 0].sample(n=n, random_state=1).index)\n",
    "    return copy.sample(frac=1)\n",
    "\n",
    "def evaluate_model(predictions, actual):\n",
    "    return pd.DataFrame({\n",
    "        \"Measure\": [\"Accuracy\", \"Precision\", \"Recall\"],\n",
    "        \"Score\": [accuracy_score(actual, predictions), \n",
    "                  precision_score(actual, predictions), \n",
    "                  recall_score(actual, predictions)]\n",
    "    })\n",
    "\n",
    "def feature_importance(columns, classifier):        \n",
    "    display(\"Feature Importance\")\n",
    "    df = pd.DataFrame({\n",
    "        \"Feature\": columns,\n",
    "        \"Importance\": classifier.feature_importances_\n",
    "    })\n",
    "    df = df.sort_values(\"Importance\", ascending=False)    \n",
    "    ax = df.plot(kind='bar', x='Feature', y='Importance', legend=None)\n",
    "    ax.xaxis.set_label_text(\"\")\n",
    "    plt.tight_layout()\n",
    "    plt.show()"
   ]
  },
  {
   "cell_type": "code",
   "execution_count": 4,
   "metadata": {},
   "outputs": [],
   "source": [
    "def create_LP_features(data, rel_type):\n",
    "    query = \"\"\"\n",
    "    UNWIND $pairs AS pair\n",
    "    MATCH (p1:Person) \n",
    "    USING INDEX p1:Person(connectionid) \n",
    "    WHERE p1.connectionid = pair.node1\n",
    "    MATCH (p2:Person) \n",
    "    USING INDEX p2:Person(connectionid) \n",
    "    WHERE p2.connectionid = pair.node2\n",
    "    RETURN pair.node1 AS node1,\n",
    "           pair.node2 AS node2,\n",
    "           algo.linkprediction.commonNeighbors(\n",
    "               p1, p2, {relationshipQuery: $relType}) AS cn,\n",
    "           algo.linkprediction.adamicAdar(\n",
    "               p1, p2, {relationshipQuery: $relType}) AS aa,\n",
    "           algo.linkprediction.preferentialAttachment(\n",
    "               p1, p2, {relationshipQuery: $relType}) AS pa,\n",
    "           algo.linkprediction.totalNeighbors(\n",
    "               p1, p2, {relationshipQuery: $relType}) AS tn,\n",
    "           algo.linkprediction.resourceAllocation(\n",
    "               p1, p2, {relationshipQuery: $relType}) AS ra\n",
    "               \n",
    "    \"\"\"\n",
    "    print (\"pairs\")\n",
    "    pairs = [{\"node1\": node1, \"node2\": node2}  for node1,node2 in data[[\"node1\", \"node2\"]].values.tolist()]\n",
    "    print (\"features\")\n",
    "   \n",
    "    features = graph.run(query, {\"pairs\": pairs, \"relType\": rel_type}).to_data_frame()\n",
    "    print (\"merge\") \n",
    "    features = features.drop_duplicates()\n",
    "    return pd.merge(data, features, on = [\"node1\", \"node2\"])\n",
    "\n",
    "def create_community_features(data, triangles_prop, coefficient_prop):\n",
    "    query = \"\"\"\n",
    "    UNWIND $pairs AS pair\n",
    "    MATCH (p1:Person) \n",
    "    USING INDEX p1:Person(connectionid) \n",
    "    WHERE p1.connectionid = pair.node1\n",
    "    MATCH (p2:Person) \n",
    "    USING INDEX p2:Person(connectionid) \n",
    "    WHERE p2.connectionid = pair.node2\n",
    "    RETURN pair.node1 AS node1,\n",
    "    pair.node2 AS node2,\n",
    "    apoc.coll.min([p1[$trianglesProp], p2[$trianglesProp]]) AS minT,\n",
    "    apoc.coll.max([p1[$trianglesProp], p2[$trianglesProp]]) AS maxT,\n",
    "    apoc.coll.min([p1[$coefficientProp], p2[$coefficientProp]]) AS minC,\n",
    "    apoc.coll.max([p1[$coefficientProp], p2[$coefficientProp]]) AS maxC\n",
    "    \"\"\"    \n",
    "    pairs = [{\"node1\": node1, \"node2\": node2}  for node1,node2 in data[[\"node1\", \"node2\"]].values.tolist()]    \n",
    "    params = {\n",
    "    \"pairs\": pairs,\n",
    "    \"trianglesProp\": triangles_prop,\n",
    "    \"coefficientProp\": coefficient_prop\n",
    "    }\n",
    "    features = graph.run(query, params).to_data_frame()\n",
    "    features = features.drop_duplicates()\n",
    "    print (features.count())\n",
    "    print (features.tail())\n",
    "    return pd.merge(data, features, on = [\"node1\", \"node2\"])\n",
    "\n",
    "def communitydetection_features(data, partition_prop, louvain_prop):\n",
    "    query = \"\"\"\n",
    "    UNWIND $pairs AS pair\n",
    "    MATCH (p1:Person) \n",
    "    USING INDEX p1:Person(connectionid) \n",
    "    WHERE p1.connectionid = pair.node1\n",
    "    MATCH (p2:Person) \n",
    "    USING INDEX p2:Person(connectionid) \n",
    "    WHERE p2.connectionid = pair.node2\n",
    "    RETURN pair.node1 AS node1,\n",
    "    pair.node2 AS node2,\n",
    "    algo.linkprediction.sameCommunity(p1, p2, $partitionProp) AS lp,    \n",
    "    algo.linkprediction.sameCommunity(p1, p2, $louvainProp) AS lv\n",
    "    \"\"\"\n",
    "    pairs = [{\"node1\": node1, \"node2\": node2}  for node1,node2 in data[[\"node1\", \"node2\"]].values.tolist()]\n",
    "    params = {\n",
    "    \"pairs\": pairs,\n",
    "    \"partitionProp\": partition_prop,\n",
    "    \"louvainProp\": louvain_prop\n",
    "    }\n",
    "    features = graph.run(query, params).to_data_frame()\n",
    "    features = features.drop_duplicates()\n",
    "    return pd.merge(data, features, on = [\"node1\", \"node2\"])"
   ]
  },
  {
   "cell_type": "code",
   "execution_count": 5,
   "metadata": {},
   "outputs": [],
   "source": [
    "# Create the classifier\n",
    "        \n",
    "#rfclassifier = RandomForestClassifier(n_estimators=500, max_depth=50, \n",
    "                                  # random_state=0,class_weight=\"balanced\")\n",
    "\n",
    "rfclassifier = ExtraTreesClassifier(n_estimators=1000, max_depth=50, \n",
    "                                  random_state=0,class_weight=\"balanced\")\n",
    "\n",
    "# Feature column names for a full set of features\n",
    "#columns = [\n",
    "#    \"cn\",\"aa\", \"pa\", \"tn\",\"ra\", # graph features\n",
    "#    \"minTriangles\", \"maxTriangles\", \"minCoefficient\", \"maxCoefficient\", # triangle features  \n",
    "#    \"sp\", \"sl\" # community detection features\n",
    "#]\n",
    "\n",
    "# Feature column names for a full link prediction features\n",
    "columns = [\"cn\",\"aa\",\"pa\", \"tn\",\"ra\", # link prediction features\n",
    "    \"lp\",\"lv\",                        # Community detection features\n",
    "    \"minT\", \"maxT\", \"minC\", \"maxC\"    # triangle features       \n",
    "]"
   ]
  },
  {
   "cell_type": "code",
   "execution_count": 6,
   "metadata": {},
   "outputs": [],
   "source": [
    "# TRAINING\n",
    "# Find positive links -Training data\n",
    "train_positive_links = graph.run(\"\"\"\n",
    "MATCH (p1:Person)-[:SUB_GRAPH_TRAINING]->(p2:Person)\n",
    "RETURN p1.connectionid AS node1, p2.connectionid AS node2, 1 AS label\n",
    "\"\"\").to_data_frame()"
   ]
  },
  {
   "cell_type": "code",
   "execution_count": 7,
   "metadata": {},
   "outputs": [],
   "source": [
    "# TEST\n",
    "# Find positive links - Test data\n",
    "test_positive_links = graph.run(\"\"\"\n",
    "MATCH (p1:Person)-[:SUB_GRAPH_TEST]->(p2:Person)\n",
    "RETURN p1.connectionid AS node1, p2.connectionid AS node2, 1 AS label\n",
    "\"\"\").to_data_frame()"
   ]
  },
  {
   "cell_type": "code",
   "execution_count": 8,
   "metadata": {},
   "outputs": [],
   "source": [
    "#train_positive_links.tail()"
   ]
  },
  {
   "cell_type": "code",
   "execution_count": 9,
   "metadata": {},
   "outputs": [],
   "source": [
    "# TRAINING\n",
    "# Find negative links - Training data\n",
    "train_negative_links = graph.run(\"\"\"\n",
    "MATCH (p1:Person)\n",
    "WHERE (p1)-[:SUB_GRAPH_TRAINING]-()\n",
    "MATCH (p1)-[:SUB_GRAPH_TRAINING*2..3]-(p2)\n",
    "WHERE not((p1)-[:SUB_GRAPH_TRAINING]-(p2))\n",
    "RETURN p1.connectionid AS node1, p2.connectionid AS node2, 0 AS label\n",
    "\"\"\").to_data_frame()"
   ]
  },
  {
   "cell_type": "code",
   "execution_count": 10,
   "metadata": {},
   "outputs": [],
   "source": [
    "#train_negative_links.tail()"
   ]
  },
  {
   "cell_type": "code",
   "execution_count": 11,
   "metadata": {},
   "outputs": [],
   "source": [
    "# TEST\n",
    "# Find negative examples - test set\n",
    "test_negative_links = graph.run(\"\"\"\n",
    "MATCH (p1:Person)\n",
    "WHERE (p1)-[:SUB_GRAPH_TEST]-()\n",
    "MATCH (p1)-[:SUB_GRAPH_TEST*2..3]-(p2)\n",
    "WHERE not((p1)-[:SUB_GRAPH_TEST]-(p2))\n",
    "RETURN p1.connectionid AS node1, p2.connectionid AS node2, 0 AS label\n",
    "\"\"\").to_data_frame()"
   ]
  },
  {
   "cell_type": "code",
   "execution_count": 12,
   "metadata": {},
   "outputs": [],
   "source": [
    "# TRAINING\n",
    "# Remove duplicates - training set\n",
    "train_negative_links = train_negative_links.drop_duplicates()\n",
    "\n",
    "#Down sample Negative links\n",
    "training_df = train_negative_links.append(train_positive_links, ignore_index=True)\n",
    "training_df['label'] = training_df['label'].astype('category')\n",
    "training_df = down_sample(training_df)"
   ]
  },
  {
   "cell_type": "code",
   "execution_count": 13,
   "metadata": {},
   "outputs": [],
   "source": [
    "#train_negative_links.count()"
   ]
  },
  {
   "cell_type": "code",
   "execution_count": 14,
   "metadata": {},
   "outputs": [],
   "source": [
    "# TEST\n",
    "# Remove duplicates - test set\n",
    "test_negative_links = test_negative_links.drop_duplicates()\n",
    "\n",
    "# Create DataFrame from positive and negative examples\n",
    "test_df = test_negative_links.append(test_positive_links, ignore_index=True)\n",
    "test_df['label'] = test_df['label'].astype('category')\n",
    "# Down sample negative examples\n",
    "test_df = down_sample(test_df)"
   ]
  },
  {
   "cell_type": "code",
   "execution_count": 15,
   "metadata": {
    "scrolled": true
   },
   "outputs": [
    {
     "name": "stdout",
     "output_type": "stream",
     "text": [
      "pairs\n",
      "features\n",
      "merge\n"
     ]
    }
   ],
   "source": [
    "# TRAINING\n",
    "# Apply the link prediction features to the data set\n",
    "training_df = create_LP_features(training_df, \"SUB_GRAPH_TRAINING\")"
   ]
  },
  {
   "cell_type": "code",
   "execution_count": 16,
   "metadata": {},
   "outputs": [],
   "source": [
    "#training_df.count()"
   ]
  },
  {
   "cell_type": "code",
   "execution_count": 17,
   "metadata": {},
   "outputs": [
    {
     "name": "stdout",
     "output_type": "stream",
     "text": [
      "pairs\n",
      "features\n",
      "merge\n"
     ]
    }
   ],
   "source": [
    "# TEST\n",
    "# Apply the link prediction features to the data set\n",
    "test_df = create_LP_features(test_df, \"SUB_GRAPH_TEST\")"
   ]
  },
  {
   "cell_type": "code",
   "execution_count": 18,
   "metadata": {
    "scrolled": false
   },
   "outputs": [
    {
     "data": {
      "text/html": [
       "<div>\n",
       "<style scoped>\n",
       "    .dataframe tbody tr th:only-of-type {\n",
       "        vertical-align: middle;\n",
       "    }\n",
       "\n",
       "    .dataframe tbody tr th {\n",
       "        vertical-align: top;\n",
       "    }\n",
       "\n",
       "    .dataframe thead th {\n",
       "        text-align: right;\n",
       "    }\n",
       "</style>\n",
       "<table border=\"1\" class=\"dataframe\">\n",
       "  <thead>\n",
       "    <tr style=\"text-align: right;\">\n",
       "      <th></th>\n",
       "      <th>loadMillis</th>\n",
       "      <th>computeMillis</th>\n",
       "      <th>writeMillis</th>\n",
       "      <th>postProcessingMillis</th>\n",
       "      <th>nodes</th>\n",
       "      <th>communityCount</th>\n",
       "      <th>iterations</th>\n",
       "      <th>didConverge</th>\n",
       "      <th>p1</th>\n",
       "      <th>p5</th>\n",
       "      <th>...</th>\n",
       "      <th>p50</th>\n",
       "      <th>p75</th>\n",
       "      <th>p90</th>\n",
       "      <th>p95</th>\n",
       "      <th>p99</th>\n",
       "      <th>p100</th>\n",
       "      <th>weightProperty</th>\n",
       "      <th>write</th>\n",
       "      <th>partitionProperty</th>\n",
       "      <th>writeProperty</th>\n",
       "    </tr>\n",
       "  </thead>\n",
       "  <tbody>\n",
       "    <tr>\n",
       "      <th>0</th>\n",
       "      <td>155</td>\n",
       "      <td>41</td>\n",
       "      <td>27</td>\n",
       "      <td>359</td>\n",
       "      <td>81835</td>\n",
       "      <td>36950</td>\n",
       "      <td>1</td>\n",
       "      <td>False</td>\n",
       "      <td>1</td>\n",
       "      <td>1</td>\n",
       "      <td>...</td>\n",
       "      <td>2</td>\n",
       "      <td>3</td>\n",
       "      <td>4</td>\n",
       "      <td>5</td>\n",
       "      <td>9</td>\n",
       "      <td>32</td>\n",
       "      <td>weight</td>\n",
       "      <td>True</td>\n",
       "      <td>partitionTrain</td>\n",
       "      <td>partitionTrain</td>\n",
       "    </tr>\n",
       "  </tbody>\n",
       "</table>\n",
       "<p>1 rows × 22 columns</p>\n",
       "</div>"
      ],
      "text/plain": [
       "   loadMillis  computeMillis  writeMillis  postProcessingMillis  nodes  \\\n",
       "0         155             41           27                   359  81835   \n",
       "\n",
       "   communityCount  iterations  didConverge  p1  p5  ...  p50  p75  p90  p95  \\\n",
       "0           36950           1        False   1   1  ...    2    3    4    5   \n",
       "\n",
       "   p99  p100  weightProperty  write partitionProperty   writeProperty  \n",
       "0    9    32          weight   True    partitionTrain  partitionTrain  \n",
       "\n",
       "[1 rows x 22 columns]"
      ]
     },
     "execution_count": 18,
     "metadata": {},
     "output_type": "execute_result"
    }
   ],
   "source": [
    "# TRAINING\n",
    "# Community detection - label propogation\n",
    "graph.run(\"\"\"\n",
    "CALL algo.labelPropagation(\"Person\", \"SUB_GRAPH_TRAINING\", \"BOTH\",\n",
    "{partitionProperty: \"partitionTrain\"});\n",
    "\"\"\").to_data_frame()"
   ]
  },
  {
   "cell_type": "code",
   "execution_count": 19,
   "metadata": {},
   "outputs": [
    {
     "data": {
      "text/html": [
       "<div>\n",
       "<style scoped>\n",
       "    .dataframe tbody tr th:only-of-type {\n",
       "        vertical-align: middle;\n",
       "    }\n",
       "\n",
       "    .dataframe tbody tr th {\n",
       "        vertical-align: top;\n",
       "    }\n",
       "\n",
       "    .dataframe thead th {\n",
       "        text-align: right;\n",
       "    }\n",
       "</style>\n",
       "<table border=\"1\" class=\"dataframe\">\n",
       "  <thead>\n",
       "    <tr style=\"text-align: right;\">\n",
       "      <th></th>\n",
       "      <th>loadMillis</th>\n",
       "      <th>computeMillis</th>\n",
       "      <th>writeMillis</th>\n",
       "      <th>postProcessingMillis</th>\n",
       "      <th>nodes</th>\n",
       "      <th>communityCount</th>\n",
       "      <th>iterations</th>\n",
       "      <th>didConverge</th>\n",
       "      <th>p1</th>\n",
       "      <th>p5</th>\n",
       "      <th>...</th>\n",
       "      <th>p50</th>\n",
       "      <th>p75</th>\n",
       "      <th>p90</th>\n",
       "      <th>p95</th>\n",
       "      <th>p99</th>\n",
       "      <th>p100</th>\n",
       "      <th>weightProperty</th>\n",
       "      <th>write</th>\n",
       "      <th>partitionProperty</th>\n",
       "      <th>writeProperty</th>\n",
       "    </tr>\n",
       "  </thead>\n",
       "  <tbody>\n",
       "    <tr>\n",
       "      <th>0</th>\n",
       "      <td>92</td>\n",
       "      <td>11</td>\n",
       "      <td>14</td>\n",
       "      <td>213</td>\n",
       "      <td>81835</td>\n",
       "      <td>72297</td>\n",
       "      <td>1</td>\n",
       "      <td>False</td>\n",
       "      <td>1</td>\n",
       "      <td>1</td>\n",
       "      <td>...</td>\n",
       "      <td>1</td>\n",
       "      <td>1</td>\n",
       "      <td>1</td>\n",
       "      <td>2</td>\n",
       "      <td>5</td>\n",
       "      <td>20</td>\n",
       "      <td>weight</td>\n",
       "      <td>True</td>\n",
       "      <td>partitionTest</td>\n",
       "      <td>partitionTest</td>\n",
       "    </tr>\n",
       "  </tbody>\n",
       "</table>\n",
       "<p>1 rows × 22 columns</p>\n",
       "</div>"
      ],
      "text/plain": [
       "   loadMillis  computeMillis  writeMillis  postProcessingMillis  nodes  \\\n",
       "0          92             11           14                   213  81835   \n",
       "\n",
       "   communityCount  iterations  didConverge  p1  p5  ...  p50  p75  p90  p95  \\\n",
       "0           72297           1        False   1   1  ...    1    1    1    2   \n",
       "\n",
       "   p99  p100  weightProperty  write partitionProperty  writeProperty  \n",
       "0    5    20          weight   True     partitionTest  partitionTest  \n",
       "\n",
       "[1 rows x 22 columns]"
      ]
     },
     "execution_count": 19,
     "metadata": {},
     "output_type": "execute_result"
    }
   ],
   "source": [
    "# TEST\n",
    "# Community detection - label propogation\n",
    "graph.run(\"\"\"\n",
    "CALL algo.labelPropagation(\"Person\", \"SUB_GRAPH_TEST\", \"BOTH\",\n",
    "{partitionProperty: \"partitionTest\"});\n",
    "\"\"\").to_data_frame()"
   ]
  },
  {
   "cell_type": "code",
   "execution_count": 20,
   "metadata": {
    "scrolled": true
   },
   "outputs": [
    {
     "data": {
      "text/plain": [
       "{'constraints_added': 0,\n",
       " 'constraints_removed': 0,\n",
       " 'indexes_added': 0,\n",
       " 'indexes_removed': 0,\n",
       " 'labels_added': 0,\n",
       " 'labels_removed': 0,\n",
       " 'nodes_created': 0,\n",
       " 'nodes_deleted': 0,\n",
       " 'properties_set': 81835,\n",
       " 'relationships_deleted': 0,\n",
       " 'relationships_created': 0,\n",
       " 'contains_updates': True}"
      ]
     },
     "execution_count": 20,
     "metadata": {},
     "output_type": "execute_result"
    }
   ],
   "source": [
    "# TRAINING\n",
    "# Community detection - Louvain\n",
    "graph.run(\"\"\"\n",
    "CALL algo.louvain.stream(\"Person\", \"SUB_GRAPH_TRAINING\", {includeIntermediateCommunities:true})\n",
    "YIELD nodeId, community, communities\n",
    "WITH algo.getNodeById(nodeId) AS node, communities[0] AS smallestCommunity\n",
    "SET node.louvainTrain = smallestCommunity;\n",
    "\"\"\").stats()"
   ]
  },
  {
   "cell_type": "code",
   "execution_count": 21,
   "metadata": {},
   "outputs": [
    {
     "data": {
      "text/plain": [
       "{'constraints_added': 0,\n",
       " 'constraints_removed': 0,\n",
       " 'indexes_added': 0,\n",
       " 'indexes_removed': 0,\n",
       " 'labels_added': 0,\n",
       " 'labels_removed': 0,\n",
       " 'nodes_created': 0,\n",
       " 'nodes_deleted': 0,\n",
       " 'properties_set': 81835,\n",
       " 'relationships_deleted': 0,\n",
       " 'relationships_created': 0,\n",
       " 'contains_updates': True}"
      ]
     },
     "execution_count": 21,
     "metadata": {},
     "output_type": "execute_result"
    }
   ],
   "source": [
    "# TEST\n",
    "# Community detection - Louvain\n",
    "graph.run(\"\"\"\n",
    "CALL algo.louvain.stream(\"Person\", \"SUB_GRAPH_TEST\", {includeIntermediateCommunities:true})\n",
    "YIELD nodeId, community, communities\n",
    "WITH algo.getNodeById(nodeId) AS node, communities[0] AS smallestCommunity\n",
    "SET node.louvainTest = smallestCommunity;\n",
    "\"\"\").stats()"
   ]
  },
  {
   "cell_type": "code",
   "execution_count": 22,
   "metadata": {},
   "outputs": [],
   "source": [
    "# Use the community detection algorithm to find the label prop and louvain features seeded into the graph\n",
    "# TRAINING\n",
    "training_df = communitydetection_features(training_df, \"partitionTrain\", \"louvainTrain\")\n",
    "#TEST\n",
    "test_df = communitydetection_features(test_df, \"partitionTest\", \"louvainTest\")"
   ]
  },
  {
   "cell_type": "code",
   "execution_count": 23,
   "metadata": {},
   "outputs": [],
   "source": [
    "#training_df.count()"
   ]
  },
  {
   "cell_type": "code",
   "execution_count": 24,
   "metadata": {},
   "outputs": [
    {
     "data": {
      "text/html": [
       "<div>\n",
       "<style scoped>\n",
       "    .dataframe tbody tr th:only-of-type {\n",
       "        vertical-align: middle;\n",
       "    }\n",
       "\n",
       "    .dataframe tbody tr th {\n",
       "        vertical-align: top;\n",
       "    }\n",
       "\n",
       "    .dataframe thead th {\n",
       "        text-align: right;\n",
       "    }\n",
       "</style>\n",
       "<table border=\"1\" class=\"dataframe\">\n",
       "  <thead>\n",
       "    <tr style=\"text-align: right;\">\n",
       "      <th></th>\n",
       "      <th>loadMillis</th>\n",
       "      <th>computeMillis</th>\n",
       "      <th>writeMillis</th>\n",
       "      <th>postProcessingMillis</th>\n",
       "      <th>nodeCount</th>\n",
       "      <th>triangleCount</th>\n",
       "      <th>averageClusteringCoefficient</th>\n",
       "      <th>p1</th>\n",
       "      <th>p5</th>\n",
       "      <th>p10</th>\n",
       "      <th>p25</th>\n",
       "      <th>p50</th>\n",
       "      <th>p75</th>\n",
       "      <th>p90</th>\n",
       "      <th>p95</th>\n",
       "      <th>p99</th>\n",
       "      <th>p100</th>\n",
       "      <th>write</th>\n",
       "      <th>writeProperty</th>\n",
       "      <th>clusteringCoefficientProperty</th>\n",
       "    </tr>\n",
       "  </thead>\n",
       "  <tbody>\n",
       "    <tr>\n",
       "      <th>0</th>\n",
       "      <td>65</td>\n",
       "      <td>37</td>\n",
       "      <td>4</td>\n",
       "      <td>439</td>\n",
       "      <td>81835</td>\n",
       "      <td>47967</td>\n",
       "      <td>0.261</td>\n",
       "      <td>0</td>\n",
       "      <td>0</td>\n",
       "      <td>0</td>\n",
       "      <td>0</td>\n",
       "      <td>0</td>\n",
       "      <td>1</td>\n",
       "      <td>5</td>\n",
       "      <td>10</td>\n",
       "      <td>23</td>\n",
       "      <td>171</td>\n",
       "      <td>True</td>\n",
       "      <td>trianglesTrain</td>\n",
       "      <td>coefficientTrain</td>\n",
       "    </tr>\n",
       "  </tbody>\n",
       "</table>\n",
       "</div>"
      ],
      "text/plain": [
       "   loadMillis  computeMillis  writeMillis  postProcessingMillis  nodeCount  \\\n",
       "0          65             37            4                   439      81835   \n",
       "\n",
       "   triangleCount  averageClusteringCoefficient  p1  p5  p10  p25  p50  p75  \\\n",
       "0          47967                         0.261   0   0    0    0    0    1   \n",
       "\n",
       "   p90  p95  p99  p100  write   writeProperty clusteringCoefficientProperty  \n",
       "0    5   10   23   171   True  trianglesTrain              coefficientTrain  "
      ]
     },
     "execution_count": 24,
     "metadata": {},
     "output_type": "execute_result"
    }
   ],
   "source": [
    "graph.run(\"\"\"\n",
    "CALL algo.triangleCount('Person', 'SUB_GRAPH_TRAINING', { write:true,\n",
    "writeProperty:'trianglesTrain', clusteringCoefficientProperty:'coefficientTrain'});\n",
    "\"\"\").to_data_frame()"
   ]
  },
  {
   "cell_type": "code",
   "execution_count": 25,
   "metadata": {},
   "outputs": [
    {
     "data": {
      "text/html": [
       "<div>\n",
       "<style scoped>\n",
       "    .dataframe tbody tr th:only-of-type {\n",
       "        vertical-align: middle;\n",
       "    }\n",
       "\n",
       "    .dataframe tbody tr th {\n",
       "        vertical-align: top;\n",
       "    }\n",
       "\n",
       "    .dataframe thead th {\n",
       "        text-align: right;\n",
       "    }\n",
       "</style>\n",
       "<table border=\"1\" class=\"dataframe\">\n",
       "  <thead>\n",
       "    <tr style=\"text-align: right;\">\n",
       "      <th></th>\n",
       "      <th>loadMillis</th>\n",
       "      <th>computeMillis</th>\n",
       "      <th>writeMillis</th>\n",
       "      <th>postProcessingMillis</th>\n",
       "      <th>nodeCount</th>\n",
       "      <th>triangleCount</th>\n",
       "      <th>averageClusteringCoefficient</th>\n",
       "      <th>p1</th>\n",
       "      <th>p5</th>\n",
       "      <th>p10</th>\n",
       "      <th>p25</th>\n",
       "      <th>p50</th>\n",
       "      <th>p75</th>\n",
       "      <th>p90</th>\n",
       "      <th>p95</th>\n",
       "      <th>p99</th>\n",
       "      <th>p100</th>\n",
       "      <th>write</th>\n",
       "      <th>writeProperty</th>\n",
       "      <th>clusteringCoefficientProperty</th>\n",
       "    </tr>\n",
       "  </thead>\n",
       "  <tbody>\n",
       "    <tr>\n",
       "      <th>0</th>\n",
       "      <td>32</td>\n",
       "      <td>10</td>\n",
       "      <td>2</td>\n",
       "      <td>457</td>\n",
       "      <td>81835</td>\n",
       "      <td>13611</td>\n",
       "      <td>0.088</td>\n",
       "      <td>0</td>\n",
       "      <td>0</td>\n",
       "      <td>0</td>\n",
       "      <td>0</td>\n",
       "      <td>0</td>\n",
       "      <td>0</td>\n",
       "      <td>0</td>\n",
       "      <td>3</td>\n",
       "      <td>11</td>\n",
       "      <td>69</td>\n",
       "      <td>True</td>\n",
       "      <td>trianglesTest</td>\n",
       "      <td>coefficientTest</td>\n",
       "    </tr>\n",
       "  </tbody>\n",
       "</table>\n",
       "</div>"
      ],
      "text/plain": [
       "   loadMillis  computeMillis  writeMillis  postProcessingMillis  nodeCount  \\\n",
       "0          32             10            2                   457      81835   \n",
       "\n",
       "   triangleCount  averageClusteringCoefficient  p1  p5  p10  p25  p50  p75  \\\n",
       "0          13611                         0.088   0   0    0    0    0    0   \n",
       "\n",
       "   p90  p95  p99  p100  write  writeProperty clusteringCoefficientProperty  \n",
       "0    0    3   11    69   True  trianglesTest               coefficientTest  "
      ]
     },
     "execution_count": 25,
     "metadata": {},
     "output_type": "execute_result"
    }
   ],
   "source": [
    "graph.run(\"\"\"\n",
    "CALL algo.triangleCount('Person', 'SUB_GRAPH_TEST', { write:true,\n",
    "writeProperty:'trianglesTest', clusteringCoefficientProperty:'coefficientTest'});\n",
    "\"\"\").to_data_frame()"
   ]
  },
  {
   "cell_type": "code",
   "execution_count": 26,
   "metadata": {},
   "outputs": [
    {
     "name": "stdout",
     "output_type": "stream",
     "text": [
      "node1    163788\n",
      "node2    163788\n",
      "minT     163788\n",
      "maxT     163788\n",
      "minC     163788\n",
      "maxC     163788\n",
      "dtype: int64\n",
      "        node1  node2  minT  maxT  minC  maxC\n",
      "163783  35002  35630    14    14 0.933 0.933\n",
      "163784  76213  20755     0    10 0.000 0.222\n",
      "163785  74411  11952     0     0 0.000 0.000\n",
      "163786  79740  40402     2     7 0.090 0.333\n",
      "163787  81475  47573     1     5 0.139 1.000\n",
      "node1    38246\n",
      "node2    38246\n",
      "minT     38246\n",
      "maxT     38246\n",
      "minC     38246\n",
      "maxC     38246\n",
      "dtype: int64\n",
      "       node1  node2  minT  maxT  minC  maxC\n",
      "38241   1123  34016     0     0 0.000 0.000\n",
      "38242  45041  45041    15    15 1.000 1.000\n",
      "38243  40858  67429     1     1 0.167 1.000\n",
      "38244  77013   3571     1     2 0.667 1.000\n",
      "38245  41263  46290     3     3 1.000 1.000\n"
     ]
    }
   ],
   "source": [
    "training_df = create_community_features(training_df, \"trianglesTrain\", \"coefficientTrain\")\n",
    "test_df = create_community_features(test_df, \"trianglesTest\", \"coefficientTest\")"
   ]
  },
  {
   "cell_type": "code",
   "execution_count": 27,
   "metadata": {},
   "outputs": [],
   "source": [
    "#training_df.to_csv('d:/projectdata/ModelOutput/all_links.csv')"
   ]
  },
  {
   "cell_type": "code",
   "execution_count": 28,
   "metadata": {},
   "outputs": [],
   "source": [
    "#training_df.tail()"
   ]
  },
  {
   "cell_type": "code",
   "execution_count": 29,
   "metadata": {},
   "outputs": [
    {
     "data": {
      "text/html": [
       "<div>\n",
       "<style scoped>\n",
       "    .dataframe tbody tr th:only-of-type {\n",
       "        vertical-align: middle;\n",
       "    }\n",
       "\n",
       "    .dataframe tbody tr th {\n",
       "        vertical-align: top;\n",
       "    }\n",
       "\n",
       "    .dataframe thead th {\n",
       "        text-align: right;\n",
       "    }\n",
       "</style>\n",
       "<table border=\"1\" class=\"dataframe\">\n",
       "  <thead>\n",
       "    <tr style=\"text-align: right;\">\n",
       "      <th></th>\n",
       "      <th>Measure</th>\n",
       "      <th>Score</th>\n",
       "    </tr>\n",
       "  </thead>\n",
       "  <tbody>\n",
       "    <tr>\n",
       "      <th>0</th>\n",
       "      <td>Accuracy</td>\n",
       "      <td>0.972</td>\n",
       "    </tr>\n",
       "    <tr>\n",
       "      <th>1</th>\n",
       "      <td>Precision</td>\n",
       "      <td>0.959</td>\n",
       "    </tr>\n",
       "    <tr>\n",
       "      <th>2</th>\n",
       "      <td>Recall</td>\n",
       "      <td>0.985</td>\n",
       "    </tr>\n",
       "  </tbody>\n",
       "</table>\n",
       "</div>"
      ],
      "text/plain": [
       "     Measure  Score\n",
       "0   Accuracy  0.972\n",
       "1  Precision  0.959\n",
       "2     Recall  0.985"
      ]
     },
     "metadata": {},
     "output_type": "display_data"
    },
    {
     "data": {
      "text/plain": [
       "'Feature Importance'"
      ]
     },
     "metadata": {},
     "output_type": "display_data"
    },
    {
     "data": {
      "image/png": "[encoded data removed]",
      "text/plain": [
       "<Figure size 432x288 with 1 Axes>"
      ]
     },
     "metadata": {
      "needs_background": "light"
     },
     "output_type": "display_data"
    }
   ],
   "source": [
    "# Run the classifier againt the training data\n",
    "X = training_df[columns]\n",
    "y = training_df[\"label\"]\n",
    "rfclassifier.fit(X, y)\n",
    "\n",
    "# Apply the test data and evaluate performance\n",
    "predictions = rfclassifier.predict(test_df[columns])\n",
    "y_test = test_df[\"label\"]\n",
    "\n",
    "display(evaluate_model(predictions, y_test))\n",
    "feature_importance(columns, rfclassifier)"
   ]
  },
  {
   "cell_type": "code",
   "execution_count": 30,
   "metadata": {},
   "outputs": [],
   "source": [
    "filename = 'd:\\projectdata\\models\\CDMLWU_LP5.sav'\n",
    "pickle.dump(rfclassifier, open(filename, 'wb'))"
   ]
  },
  {
   "cell_type": "code",
   "execution_count": null,
   "metadata": {},
   "outputs": [],
   "source": []
  }
 ],
 "metadata": {
  "kernelspec": {
   "display_name": "Python 3",
   "language": "python",
   "name": "python3"
  },
  "language_info": {
   "codemirror_mode": {
    "name": "ipython",
    "version": 3
   },
   "file_extension": ".py",
   "mimetype": "text/x-python",
   "name": "python",
   "nbconvert_exporter": "python",
   "pygments_lexer": "ipython3",
   "version": "3.7.6"
  }
 },
 "nbformat": 4,
 "nbformat_minor": 2
}
